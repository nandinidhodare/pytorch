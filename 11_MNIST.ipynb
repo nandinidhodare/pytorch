{
 "cells": [
  {
   "cell_type": "code",
   "execution_count": 1,
   "id": "648afd24",
   "metadata": {},
   "outputs": [],
   "source": [
    "import torch\n",
    "import torch.nn as nn\n",
    "import torchvision\n",
    "import torchvision.transforms as transforms\n",
    "import matplotlib.pyplot as plt"
   ]
  },
  {
   "cell_type": "code",
   "execution_count": 2,
   "id": "c567a879",
   "metadata": {},
   "outputs": [],
   "source": [
    "device = torch.device('cuda' if torch.cuda.is_available() else 'cpu')"
   ]
  },
  {
   "cell_type": "code",
   "execution_count": 3,
   "id": "9864183a",
   "metadata": {},
   "outputs": [
    {
     "data": {
      "text/plain": [
       "device(type='cpu')"
      ]
     },
     "execution_count": 3,
     "metadata": {},
     "output_type": "execute_result"
    }
   ],
   "source": [
    "device"
   ]
  },
  {
   "cell_type": "code",
   "execution_count": 4,
   "id": "0d5ac4df",
   "metadata": {},
   "outputs": [],
   "source": [
    "input_size = 784\n",
    "hidden_size = 100\n",
    "num_classes = 10\n",
    "num_epochs = 20\n",
    "batch_size = 100\n",
    "learning_rate = 0.001"
   ]
  },
  {
   "cell_type": "code",
   "execution_count": 5,
   "id": "e79613e5",
   "metadata": {},
   "outputs": [
    {
     "name": "stdout",
     "output_type": "stream",
     "text": [
      "Downloading http://yann.lecun.com/exdb/mnist/train-images-idx3-ubyte.gz\n",
      "Downloading http://yann.lecun.com/exdb/mnist/train-images-idx3-ubyte.gz to data\\MNIST\\raw\\train-images-idx3-ubyte.gz\n"
     ]
    },
    {
     "data": {
      "application/vnd.jupyter.widget-view+json": {
       "model_id": "bb713d0212a54dc6883ee1addcc108cf",
       "version_major": 2,
       "version_minor": 0
      },
      "text/plain": [
       "  0%|          | 0/9912422 [00:00<?, ?it/s]"
      ]
     },
     "metadata": {},
     "output_type": "display_data"
    },
    {
     "name": "stdout",
     "output_type": "stream",
     "text": [
      "Extracting data\\MNIST\\raw\\train-images-idx3-ubyte.gz to data\\MNIST\\raw\n",
      "\n",
      "Downloading http://yann.lecun.com/exdb/mnist/train-labels-idx1-ubyte.gz\n",
      "Downloading http://yann.lecun.com/exdb/mnist/train-labels-idx1-ubyte.gz to data\\MNIST\\raw\\train-labels-idx1-ubyte.gz\n"
     ]
    },
    {
     "data": {
      "application/vnd.jupyter.widget-view+json": {
       "model_id": "0c0f0949b3384b5c9fa71034cebb26ef",
       "version_major": 2,
       "version_minor": 0
      },
      "text/plain": [
       "  0%|          | 0/28881 [00:00<?, ?it/s]"
      ]
     },
     "metadata": {},
     "output_type": "display_data"
    },
    {
     "name": "stdout",
     "output_type": "stream",
     "text": [
      "Extracting data\\MNIST\\raw\\train-labels-idx1-ubyte.gz to data\\MNIST\\raw\n",
      "\n",
      "Downloading http://yann.lecun.com/exdb/mnist/t10k-images-idx3-ubyte.gz\n",
      "Downloading http://yann.lecun.com/exdb/mnist/t10k-images-idx3-ubyte.gz to data\\MNIST\\raw\\t10k-images-idx3-ubyte.gz\n"
     ]
    },
    {
     "data": {
      "application/vnd.jupyter.widget-view+json": {
       "model_id": "5e88532fbe9d49eb96a11a509b373c6c",
       "version_major": 2,
       "version_minor": 0
      },
      "text/plain": [
       "  0%|          | 0/1648877 [00:00<?, ?it/s]"
      ]
     },
     "metadata": {},
     "output_type": "display_data"
    },
    {
     "name": "stdout",
     "output_type": "stream",
     "text": [
      "Extracting data\\MNIST\\raw\\t10k-images-idx3-ubyte.gz to data\\MNIST\\raw\n",
      "\n",
      "Downloading http://yann.lecun.com/exdb/mnist/t10k-labels-idx1-ubyte.gz\n",
      "Downloading http://yann.lecun.com/exdb/mnist/t10k-labels-idx1-ubyte.gz to data\\MNIST\\raw\\t10k-labels-idx1-ubyte.gz\n"
     ]
    },
    {
     "data": {
      "application/vnd.jupyter.widget-view+json": {
       "model_id": "f7de0f6997f7458285f1c9386737cf4d",
       "version_major": 2,
       "version_minor": 0
      },
      "text/plain": [
       "  0%|          | 0/4542 [00:00<?, ?it/s]"
      ]
     },
     "metadata": {},
     "output_type": "display_data"
    },
    {
     "name": "stdout",
     "output_type": "stream",
     "text": [
      "Extracting data\\MNIST\\raw\\t10k-labels-idx1-ubyte.gz to data\\MNIST\\raw\n",
      "\n"
     ]
    },
    {
     "name": "stderr",
     "output_type": "stream",
     "text": [
      "C:\\Users\\ASUS\\.conda\\envs\\tfnew\\lib\\site-packages\\torchvision\\datasets\\mnist.py:498: UserWarning: The given NumPy array is not writeable, and PyTorch does not support non-writeable tensors. This means you can write to the underlying (supposedly non-writeable) NumPy array using the tensor. You may want to copy the array to protect its data or make it writeable before converting it to a tensor. This type of warning will be suppressed for the rest of this program. (Triggered internally at  ..\\torch\\csrc\\utils\\tensor_numpy.cpp:180.)\n",
      "  return torch.from_numpy(parsed.astype(m[2], copy=False)).view(*s)\n"
     ]
    }
   ],
   "source": [
    "train_dataset = torchvision.datasets.MNIST(root='data',train = True,\n",
    "                                          transform = transforms.ToTensor(),\n",
    "                                          download = True)"
   ]
  },
  {
   "cell_type": "code",
   "execution_count": 6,
   "id": "c1a2f287",
   "metadata": {},
   "outputs": [],
   "source": [
    "test_dataset = torchvision.datasets.MNIST(root='data',train=False,\n",
    "                                         transform = transforms.ToTensor(),\n",
    "                                         download = True)"
   ]
  },
  {
   "cell_type": "code",
   "execution_count": 7,
   "id": "d45b4a2d",
   "metadata": {},
   "outputs": [
    {
     "data": {
      "text/plain": [
       "Dataset MNIST\n",
       "    Number of datapoints: 60000\n",
       "    Root location: data\n",
       "    Split: Train\n",
       "    StandardTransform\n",
       "Transform: ToTensor()"
      ]
     },
     "execution_count": 7,
     "metadata": {},
     "output_type": "execute_result"
    }
   ],
   "source": [
    "train_dataset"
   ]
  },
  {
   "cell_type": "code",
   "execution_count": 8,
   "id": "fb2fc7a3",
   "metadata": {},
   "outputs": [
    {
     "data": {
      "text/plain": [
       "Dataset MNIST\n",
       "    Number of datapoints: 10000\n",
       "    Root location: data\n",
       "    Split: Test\n",
       "    StandardTransform\n",
       "Transform: ToTensor()"
      ]
     },
     "execution_count": 8,
     "metadata": {},
     "output_type": "execute_result"
    }
   ],
   "source": [
    "test_dataset"
   ]
  },
  {
   "cell_type": "code",
   "execution_count": 9,
   "id": "d1921928",
   "metadata": {},
   "outputs": [],
   "source": [
    "train_loader = torch.utils.data.DataLoader(dataset = train_dataset,\n",
    "                                          batch_size = batch_size,\n",
    "                                          shuffle= True)"
   ]
  },
  {
   "cell_type": "code",
   "execution_count": 10,
   "id": "2e240f12",
   "metadata": {},
   "outputs": [],
   "source": [
    "test_loader = torch.utils.data.DataLoader(dataset = test_dataset,\n",
    "                                         batch_size = batch_size,\n",
    "                                         shuffle = False)"
   ]
  },
  {
   "cell_type": "code",
   "execution_count": 11,
   "id": "565524c4",
   "metadata": {},
   "outputs": [],
   "source": [
    "examples = iter(train_loader)"
   ]
  },
  {
   "cell_type": "code",
   "execution_count": 12,
   "id": "1e50f5d1",
   "metadata": {},
   "outputs": [],
   "source": [
    "samples ,labels = examples.next()"
   ]
  },
  {
   "cell_type": "code",
   "execution_count": 13,
   "id": "371263a1",
   "metadata": {},
   "outputs": [
    {
     "data": {
      "text/plain": [
       "torch.Size([100, 1, 28, 28])"
      ]
     },
     "execution_count": 13,
     "metadata": {},
     "output_type": "execute_result"
    }
   ],
   "source": [
    "samples.shape"
   ]
  },
  {
   "cell_type": "code",
   "execution_count": 14,
   "id": "3ee6aa3d",
   "metadata": {},
   "outputs": [
    {
     "data": {
      "text/plain": [
       "torch.Size([100])"
      ]
     },
     "execution_count": 14,
     "metadata": {},
     "output_type": "execute_result"
    }
   ],
   "source": [
    "labels.shape"
   ]
  },
  {
   "cell_type": "code",
   "execution_count": 15,
   "id": "86c4916c",
   "metadata": {},
   "outputs": [
    {
     "data": {
      "image/png": "[encoded data removed]",
      "text/plain": [
       "<Figure size 640x480 with 6 Axes>"
      ]
     },
     "metadata": {},
     "output_type": "display_data"
    }
   ],
   "source": [
    "import matplotlib.pyplot as plt\n",
    "import seaborn as sns\n",
    "sns.set_style('whitegrid')\n",
    "for i in range(6):\n",
    "    plt.subplot(2,3,i+1)\n",
    "    plt.xticks([])\n",
    "    plt.yticks([])\n",
    "    plt.grid(False)\n",
    "    plt.imshow(samples[i][0],cmap='gray_r')\n",
    "plt.show()"
   ]
  },
  {
   "cell_type": "code",
   "execution_count": 16,
   "id": "4ffb7267",
   "metadata": {},
   "outputs": [],
   "source": [
    "class NeuralNet(nn.Module):\n",
    "    def __init__(self,input_size,hidden_size,num_classes):\n",
    "        super(NeuralNet,self).__init__()\n",
    "        self.l1 = nn.Linear(input_size,hidden_size)\n",
    "        self.relu = nn.ReLU()\n",
    "        self.l2 = nn.Linear(hidden_size,num_classes)\n",
    "    def forward(self,x):\n",
    "        out = self.l1(x)\n",
    "        out = self.relu(out)\n",
    "        out = self.l2(out)\n",
    "        return out"
   ]
  },
  {
   "cell_type": "code",
   "execution_count": 17,
   "id": "3f4fe4c8",
   "metadata": {},
   "outputs": [],
   "source": [
    "model = NeuralNet(input_size,hidden_size,num_classes).to(device)"
   ]
  },
  {
   "cell_type": "code",
   "execution_count": 18,
   "id": "c130c31f",
   "metadata": {},
   "outputs": [
    {
     "name": "stdout",
     "output_type": "stream",
     "text": [
      "NeuralNet(\n",
      "  (l1): Linear(in_features=784, out_features=100, bias=True)\n",
      "  (relu): ReLU()\n",
      "  (l2): Linear(in_features=100, out_features=10, bias=True)\n",
      ")\n"
     ]
    }
   ],
   "source": [
    "print(model)"
   ]
  },
  {
   "cell_type": "code",
   "execution_count": 19,
   "id": "ba0e6ab8",
   "metadata": {},
   "outputs": [],
   "source": [
    "#loss func^ & optimizer\n",
    "criterion = nn.CrossEntropyLoss()\n",
    "optimizer = torch.optim.Adam(model.parameters(),lr=learning_rate)"
   ]
  },
  {
   "cell_type": "code",
   "execution_count": 20,
   "id": "4a428f38",
   "metadata": {},
   "outputs": [
    {
     "name": "stdout",
     "output_type": "stream",
     "text": [
      "epoch 1/20, step 100/600,loss = 0.3331\n",
      "epoch 1/20, step 200/600,loss = 0.3312\n",
      "epoch 1/20, step 300/600,loss = 0.1983\n",
      "epoch 1/20, step 400/600,loss = 0.2451\n",
      "epoch 1/20, step 500/600,loss = 0.3625\n",
      "epoch 1/20, step 600/600,loss = 0.2336\n",
      "epoch 2/20, step 100/600,loss = 0.2478\n",
      "epoch 2/20, step 200/600,loss = 0.1206\n",
      "epoch 2/20, step 300/600,loss = 0.2814\n",
      "epoch 2/20, step 400/600,loss = 0.2484\n",
      "epoch 2/20, step 500/600,loss = 0.2242\n",
      "epoch 2/20, step 600/600,loss = 0.0886\n",
      "epoch 3/20, step 100/600,loss = 0.1296\n",
      "epoch 3/20, step 200/600,loss = 0.0886\n",
      "epoch 3/20, step 300/600,loss = 0.1090\n",
      "epoch 3/20, step 400/600,loss = 0.2079\n",
      "epoch 3/20, step 500/600,loss = 0.0866\n",
      "epoch 3/20, step 600/600,loss = 0.0967\n",
      "epoch 4/20, step 100/600,loss = 0.0924\n",
      "epoch 4/20, step 200/600,loss = 0.0556\n",
      "epoch 4/20, step 300/600,loss = 0.1508\n",
      "epoch 4/20, step 400/600,loss = 0.1076\n",
      "epoch 4/20, step 500/600,loss = 0.0545\n",
      "epoch 4/20, step 600/600,loss = 0.1315\n",
      "epoch 5/20, step 100/600,loss = 0.0755\n",
      "epoch 5/20, step 200/600,loss = 0.0849\n",
      "epoch 5/20, step 300/600,loss = 0.0274\n",
      "epoch 5/20, step 400/600,loss = 0.0639\n",
      "epoch 5/20, step 500/600,loss = 0.0424\n",
      "epoch 5/20, step 600/600,loss = 0.0510\n",
      "epoch 6/20, step 100/600,loss = 0.0257\n",
      "epoch 6/20, step 200/600,loss = 0.0530\n",
      "epoch 6/20, step 300/600,loss = 0.0389\n",
      "epoch 6/20, step 400/600,loss = 0.1763\n",
      "epoch 6/20, step 500/600,loss = 0.0954\n",
      "epoch 6/20, step 600/600,loss = 0.0549\n",
      "epoch 7/20, step 100/600,loss = 0.0545\n",
      "epoch 7/20, step 200/600,loss = 0.1261\n",
      "epoch 7/20, step 300/600,loss = 0.0762\n",
      "epoch 7/20, step 400/600,loss = 0.0360\n",
      "epoch 7/20, step 500/600,loss = 0.0290\n",
      "epoch 7/20, step 600/600,loss = 0.0600\n",
      "epoch 8/20, step 100/600,loss = 0.0616\n",
      "epoch 8/20, step 200/600,loss = 0.0526\n",
      "epoch 8/20, step 300/600,loss = 0.0135\n",
      "epoch 8/20, step 400/600,loss = 0.0942\n",
      "epoch 8/20, step 500/600,loss = 0.0453\n",
      "epoch 8/20, step 600/600,loss = 0.0734\n",
      "epoch 9/20, step 100/600,loss = 0.0417\n",
      "epoch 9/20, step 200/600,loss = 0.0964\n",
      "epoch 9/20, step 300/600,loss = 0.0237\n",
      "epoch 9/20, step 400/600,loss = 0.0603\n",
      "epoch 9/20, step 500/600,loss = 0.0195\n",
      "epoch 9/20, step 600/600,loss = 0.0432\n",
      "epoch 10/20, step 100/600,loss = 0.0456\n",
      "epoch 10/20, step 200/600,loss = 0.0699\n",
      "epoch 10/20, step 300/600,loss = 0.0096\n",
      "epoch 10/20, step 400/600,loss = 0.0323\n",
      "epoch 10/20, step 500/600,loss = 0.0502\n",
      "epoch 10/20, step 600/600,loss = 0.0286\n",
      "epoch 11/20, step 100/600,loss = 0.0057\n",
      "epoch 11/20, step 200/600,loss = 0.0592\n",
      "epoch 11/20, step 300/600,loss = 0.0198\n",
      "epoch 11/20, step 400/600,loss = 0.0860\n",
      "epoch 11/20, step 500/600,loss = 0.0370\n",
      "epoch 11/20, step 600/600,loss = 0.0497\n",
      "epoch 12/20, step 100/600,loss = 0.0418\n",
      "epoch 12/20, step 200/600,loss = 0.0513\n",
      "epoch 12/20, step 300/600,loss = 0.0138\n",
      "epoch 12/20, step 400/600,loss = 0.0512\n",
      "epoch 12/20, step 500/600,loss = 0.0181\n",
      "epoch 12/20, step 600/600,loss = 0.0683\n",
      "epoch 13/20, step 100/600,loss = 0.0240\n",
      "epoch 13/20, step 200/600,loss = 0.0797\n",
      "epoch 13/20, step 300/600,loss = 0.0264\n",
      "epoch 13/20, step 400/600,loss = 0.0252\n",
      "epoch 13/20, step 500/600,loss = 0.0859\n",
      "epoch 13/20, step 600/600,loss = 0.0482\n",
      "epoch 14/20, step 100/600,loss = 0.0163\n",
      "epoch 14/20, step 200/600,loss = 0.0258\n",
      "epoch 14/20, step 300/600,loss = 0.0119\n",
      "epoch 14/20, step 400/600,loss = 0.0270\n",
      "epoch 14/20, step 500/600,loss = 0.0208\n",
      "epoch 14/20, step 600/600,loss = 0.0067\n",
      "epoch 15/20, step 100/600,loss = 0.0211\n",
      "epoch 15/20, step 200/600,loss = 0.0068\n",
      "epoch 15/20, step 300/600,loss = 0.0160\n",
      "epoch 15/20, step 400/600,loss = 0.0035\n",
      "epoch 15/20, step 500/600,loss = 0.0213\n",
      "epoch 15/20, step 600/600,loss = 0.0553\n",
      "epoch 16/20, step 100/600,loss = 0.0039\n",
      "epoch 16/20, step 200/600,loss = 0.0033\n",
      "epoch 16/20, step 300/600,loss = 0.0048\n",
      "epoch 16/20, step 400/600,loss = 0.0123\n",
      "epoch 16/20, step 500/600,loss = 0.0275\n",
      "epoch 16/20, step 600/600,loss = 0.0139\n",
      "epoch 17/20, step 100/600,loss = 0.0060\n",
      "epoch 17/20, step 200/600,loss = 0.0117\n",
      "epoch 17/20, step 300/600,loss = 0.0228\n",
      "epoch 17/20, step 400/600,loss = 0.0087\n",
      "epoch 17/20, step 500/600,loss = 0.0409\n",
      "epoch 17/20, step 600/600,loss = 0.0057\n",
      "epoch 18/20, step 100/600,loss = 0.0184\n",
      "epoch 18/20, step 200/600,loss = 0.0058\n",
      "epoch 18/20, step 300/600,loss = 0.0068\n",
      "epoch 18/20, step 400/600,loss = 0.0164\n",
      "epoch 18/20, step 500/600,loss = 0.0030\n",
      "epoch 18/20, step 600/600,loss = 0.0143\n",
      "epoch 19/20, step 100/600,loss = 0.0231\n",
      "epoch 19/20, step 200/600,loss = 0.0047\n",
      "epoch 19/20, step 300/600,loss = 0.0058\n",
      "epoch 19/20, step 400/600,loss = 0.0081\n",
      "epoch 19/20, step 500/600,loss = 0.0124\n",
      "epoch 19/20, step 600/600,loss = 0.0026\n",
      "epoch 20/20, step 100/600,loss = 0.0024\n",
      "epoch 20/20, step 200/600,loss = 0.0046\n",
      "epoch 20/20, step 300/600,loss = 0.0051\n",
      "epoch 20/20, step 400/600,loss = 0.0077\n",
      "epoch 20/20, step 500/600,loss = 0.0036\n",
      "epoch 20/20, step 600/600,loss = 0.0109\n"
     ]
    }
   ],
   "source": [
    "#training loop\n",
    "n_total_steps = len(train_loader)\n",
    "for epoch in range(num_epochs):\n",
    "    for i, (images,labels) in enumerate(train_loader):\n",
    "        images = images.reshape(-1,28*28).to(device)\n",
    "        labels = labels.to(device)\n",
    "        #forward pass\n",
    "        outputs = model(images)\n",
    "        loss = criterion(outputs,labels)\n",
    "        #backward pass\n",
    "        optimizer.zero_grad()\n",
    "        loss.backward()\n",
    "        optimizer.step()\n",
    "        if (i+1) % 100 == 0:\n",
    "            print(f'epoch {epoch+1}/{num_epochs}, step {i+1}/{n_total_steps},loss = {loss.item():.4f}')"
   ]
  },
  {
   "cell_type": "code",
   "execution_count": 21,
   "id": "45b6cdf7",
   "metadata": {},
   "outputs": [],
   "source": [
    "# testing"
   ]
  },
  {
   "cell_type": "code",
   "execution_count": 22,
   "id": "cf0d10b8",
   "metadata": {},
   "outputs": [
    {
     "name": "stdout",
     "output_type": "stream",
     "text": [
      "accuracy = 99.0\n"
     ]
    }
   ],
   "source": [
    "with torch.no_grad():\n",
    "    n_correct = 0\n",
    "    n_samples = 0\n",
    "    for images, labels in test_loader:\n",
    "        images = images.reshape(-1,28*28).to(device)\n",
    "        labels = labels.to(device)\n",
    "        outputs = model(images)\n",
    "    _, predictions = torch.max(outputs,1)\n",
    "    n_samples += labels.shape[0]\n",
    "    n_correct += (predictions ==  labels).sum().item()\n",
    "    acc = 100.0 * n_correct/n_samples\n",
    "    print(f\"accuracy = {acc}\")"
   ]
  },
  {
   "cell_type": "code",
   "execution_count": 23,
   "id": "821786dd",
   "metadata": {},
   "outputs": [
    {
     "data": {
      "text/plain": [
       "100"
      ]
     },
     "execution_count": 23,
     "metadata": {},
     "output_type": "execute_result"
    }
   ],
   "source": [
    "n_samples"
   ]
  },
  {
   "cell_type": "code",
   "execution_count": 24,
   "id": "588f5b82",
   "metadata": {},
   "outputs": [
    {
     "data": {
      "text/plain": [
       "99"
      ]
     },
     "execution_count": 24,
     "metadata": {},
     "output_type": "execute_result"
    }
   ],
   "source": [
    "n_correct"
   ]
  },
  {
   "cell_type": "code",
   "execution_count": null,
   "id": "09f20feb",
   "metadata": {},
   "outputs": [],
   "source": []
  }
 ],
 "metadata": {
  "kernelspec": {
   "display_name": "Python 3 (ipykernel)",
   "language": "python",
   "name": "python3"
  },
  "language_info": {
   "codemirror_mode": {
    "name": "ipython",
    "version": 3
   },
   "file_extension": ".py",
   "mimetype": "text/x-python",
   "name": "python",
   "nbconvert_exporter": "python",
   "pygments_lexer": "ipython3",
   "version": "3.8.16"
  }
 },
 "nbformat": 4,
 "nbformat_minor": 5
}
