{
 "cells": [
  {
   "cell_type": "code",
   "execution_count": 1,
   "id": "30cc82cb",
   "metadata": {},
   "outputs": [],
   "source": [
    "import torch\n",
    "import torch.nn as nn\n",
    "import numpy as np"
   ]
  },
  {
   "cell_type": "code",
   "execution_count": 2,
   "id": "1afefd55",
   "metadata": {},
   "outputs": [],
   "source": [
    "def softmax(x):\n",
    "    return np.exp(x)/np.sum(np.exp(x),axis=0)"
   ]
  },
  {
   "cell_type": "code",
   "execution_count": 3,
   "id": "6673f9c5",
   "metadata": {},
   "outputs": [],
   "source": [
    "x=  np.array([2.0,1.0,0.1])"
   ]
  },
  {
   "cell_type": "code",
   "execution_count": 4,
   "id": "e29ad6fb",
   "metadata": {},
   "outputs": [],
   "source": [
    "outputs = softmax(x)"
   ]
  },
  {
   "cell_type": "code",
   "execution_count": 5,
   "id": "9ad94d33",
   "metadata": {},
   "outputs": [
    {
     "name": "stdout",
     "output_type": "stream",
     "text": [
      "softmax numpy: [0.65900114 0.24243297 0.09856589]\n"
     ]
    }
   ],
   "source": [
    "print('softmax numpy:' ,outputs)"
   ]
  },
  {
   "cell_type": "code",
   "execution_count": 6,
   "id": "4b6848bc",
   "metadata": {},
   "outputs": [],
   "source": [
    "x = torch.tensor([2.0,1.0,0.1])"
   ]
  },
  {
   "cell_type": "code",
   "execution_count": 7,
   "id": "8443cee2",
   "metadata": {},
   "outputs": [],
   "source": [
    "outputs = torch.softmax(x,dim=0)"
   ]
  },
  {
   "cell_type": "code",
   "execution_count": 8,
   "id": "0b0cbec2",
   "metadata": {},
   "outputs": [
    {
     "name": "stdout",
     "output_type": "stream",
     "text": [
      "tensor([0.6590, 0.2424, 0.0986])\n"
     ]
    }
   ],
   "source": [
    "print(outputs)"
   ]
  },
  {
   "cell_type": "code",
   "execution_count": 9,
   "id": "be417d3c",
   "metadata": {},
   "outputs": [],
   "source": [
    "# Cross Entropy"
   ]
  },
  {
   "cell_type": "code",
   "execution_count": 10,
   "id": "e41c0ae0",
   "metadata": {},
   "outputs": [],
   "source": [
    "#y = [1,0,0]\n",
    "#y_hat = [0.7,0.2,0.1]\n",
    "#y = [1,0,0]\n",
    "#y_hat = [0.1,0.3,0.6]"
   ]
  },
  {
   "cell_type": "code",
   "execution_count": 11,
   "id": "a6d2954a",
   "metadata": {},
   "outputs": [],
   "source": [
    "import torch\n",
    "import torch.nn as nn\n",
    "import numpy as np"
   ]
  },
  {
   "cell_type": "code",
   "execution_count": 12,
   "id": "8b31647c",
   "metadata": {},
   "outputs": [],
   "source": [
    "def cross_entropy(actual,predicted):\n",
    "    loss = -np.sum(actual*np.log(predicted))\n",
    "    return loss"
   ]
  },
  {
   "cell_type": "code",
   "execution_count": 13,
   "id": "fafd3e83",
   "metadata": {},
   "outputs": [],
   "source": [
    "y = np.array([1,0,0])"
   ]
  },
  {
   "cell_type": "code",
   "execution_count": 14,
   "id": "6c76cff7",
   "metadata": {},
   "outputs": [],
   "source": [
    "y_pred_good = np.array([0.7,0.2,0.1])\n",
    "y_pred_bad = np.array([0.1,0.3,0.6])"
   ]
  },
  {
   "cell_type": "code",
   "execution_count": 15,
   "id": "815b051b",
   "metadata": {},
   "outputs": [],
   "source": [
    "l1 = cross_entropy(y,y_pred_good)"
   ]
  },
  {
   "cell_type": "code",
   "execution_count": 16,
   "id": "c4f42d03",
   "metadata": {},
   "outputs": [
    {
     "data": {
      "text/plain": [
       "0.35667494393873245"
      ]
     },
     "execution_count": 16,
     "metadata": {},
     "output_type": "execute_result"
    }
   ],
   "source": [
    "l1"
   ]
  },
  {
   "cell_type": "code",
   "execution_count": 17,
   "id": "966c6d61",
   "metadata": {},
   "outputs": [],
   "source": [
    "l2 = cross_entropy(y,y_pred_bad)"
   ]
  },
  {
   "cell_type": "code",
   "execution_count": 18,
   "id": "f1cc587f",
   "metadata": {},
   "outputs": [
    {
     "data": {
      "text/plain": [
       "2.3025850929940455"
      ]
     },
     "execution_count": 18,
     "metadata": {},
     "output_type": "execute_result"
    }
   ],
   "source": [
    "l2"
   ]
  },
  {
   "cell_type": "code",
   "execution_count": 19,
   "id": "31c7511c",
   "metadata": {},
   "outputs": [],
   "source": [
    "\n",
    "# Pytorch"
   ]
  },
  {
   "cell_type": "code",
   "execution_count": 20,
   "id": "91061ece",
   "metadata": {},
   "outputs": [],
   "source": [
    "loss = nn.CrossEntropyLoss()"
   ]
  },
  {
   "cell_type": "code",
   "execution_count": 21,
   "id": "33c28c6e",
   "metadata": {},
   "outputs": [],
   "source": [
    "y = torch.tensor([0])"
   ]
  },
  {
   "cell_type": "code",
   "execution_count": 22,
   "id": "de2452be",
   "metadata": {},
   "outputs": [
    {
     "data": {
      "text/plain": [
       "tensor([0])"
      ]
     },
     "execution_count": 22,
     "metadata": {},
     "output_type": "execute_result"
    }
   ],
   "source": [
    "y"
   ]
  },
  {
   "cell_type": "code",
   "execution_count": 23,
   "id": "c840e492",
   "metadata": {},
   "outputs": [],
   "source": [
    "y_pred_good = torch.tensor([[2.0,1.0,0.1]])\n",
    "y_pred_bad = torch.tensor([[0.5,2.0,0.3]])"
   ]
  },
  {
   "cell_type": "code",
   "execution_count": 24,
   "id": "d84434d1",
   "metadata": {},
   "outputs": [],
   "source": [
    "l1 = loss(y_pred_good,y)"
   ]
  },
  {
   "cell_type": "code",
   "execution_count": 25,
   "id": "d792a444",
   "metadata": {},
   "outputs": [
    {
     "data": {
      "text/plain": [
       "tensor(0.4170)"
      ]
     },
     "execution_count": 25,
     "metadata": {},
     "output_type": "execute_result"
    }
   ],
   "source": [
    "l1"
   ]
  },
  {
   "cell_type": "code",
   "execution_count": 26,
   "id": "81a8702e",
   "metadata": {},
   "outputs": [],
   "source": [
    "l2 = loss(y_pred_bad,y)"
   ]
  },
  {
   "cell_type": "code",
   "execution_count": 27,
   "id": "b2febdae",
   "metadata": {},
   "outputs": [
    {
     "data": {
      "text/plain": [
       "tensor(1.8406)"
      ]
     },
     "execution_count": 27,
     "metadata": {},
     "output_type": "execute_result"
    }
   ],
   "source": [
    "l2"
   ]
  },
  {
   "cell_type": "code",
   "execution_count": 28,
   "id": "5fe190a3",
   "metadata": {},
   "outputs": [
    {
     "name": "stdout",
     "output_type": "stream",
     "text": [
      "0.4170299470424652\n"
     ]
    }
   ],
   "source": [
    "print(l1.item())"
   ]
  },
  {
   "cell_type": "code",
   "execution_count": 29,
   "id": "52fbf7e2",
   "metadata": {},
   "outputs": [
    {
     "name": "stdout",
     "output_type": "stream",
     "text": [
      "1.840616226196289\n"
     ]
    }
   ],
   "source": [
    "print(l2.item())"
   ]
  },
  {
   "cell_type": "code",
   "execution_count": 30,
   "id": "abc94dc3",
   "metadata": {},
   "outputs": [],
   "source": [
    "_,prediction1 = torch.max(y_pred_good,1)"
   ]
  },
  {
   "cell_type": "code",
   "execution_count": 31,
   "id": "f5be72b9",
   "metadata": {},
   "outputs": [],
   "source": [
    "_,prediction2 = torch.max(y_pred_bad,1)\n"
   ]
  },
  {
   "cell_type": "code",
   "execution_count": 32,
   "id": "2fc29b37",
   "metadata": {},
   "outputs": [
    {
     "data": {
      "text/plain": [
       "tensor([0])"
      ]
     },
     "execution_count": 32,
     "metadata": {},
     "output_type": "execute_result"
    }
   ],
   "source": [
    "prediction1"
   ]
  },
  {
   "cell_type": "code",
   "execution_count": 33,
   "id": "0b287e74",
   "metadata": {},
   "outputs": [
    {
     "data": {
      "text/plain": [
       "tensor([1])"
      ]
     },
     "execution_count": 33,
     "metadata": {},
     "output_type": "execute_result"
    }
   ],
   "source": [
    "prediction2"
   ]
  },
  {
   "cell_type": "code",
   "execution_count": 34,
   "id": "f37438f9",
   "metadata": {},
   "outputs": [],
   "source": [
    "import torch \n",
    "import torch.nn as nn\n",
    "import numpy as np"
   ]
  },
  {
   "cell_type": "code",
   "execution_count": 35,
   "id": "2cc45b2a",
   "metadata": {},
   "outputs": [],
   "source": [
    "def softmax(x):\n",
    "    return np.exp(x)/np.sum(np.sum(np.exp(x),axis=0))"
   ]
  },
  {
   "cell_type": "code",
   "execution_count": 36,
   "id": "8b6b631f",
   "metadata": {},
   "outputs": [
    {
     "name": "stdout",
     "output_type": "stream",
     "text": [
      "[0.65900114 0.24243297 0.09856589]\n"
     ]
    }
   ],
   "source": [
    "x = np.array([2.0,1.0,0.1])\n",
    "outputs = softmax(x)\n",
    "print(outputs)"
   ]
  },
  {
   "cell_type": "code",
   "execution_count": 37,
   "id": "2fa88016",
   "metadata": {},
   "outputs": [
    {
     "name": "stdout",
     "output_type": "stream",
     "text": [
      "tensor([0.6590, 0.2424, 0.0986])\n"
     ]
    }
   ],
   "source": [
    "x = torch.tensor([2.0,1.0,0.1])\n",
    "outputs = torch.softmax(x,dim=0)\n",
    "print(outputs)"
   ]
  },
  {
   "cell_type": "code",
   "execution_count": 38,
   "id": "6caa05e6",
   "metadata": {},
   "outputs": [],
   "source": [
    "# crossentropy"
   ]
  },
  {
   "cell_type": "code",
   "execution_count": 39,
   "id": "993bad70",
   "metadata": {},
   "outputs": [],
   "source": [
    "def crossentropy(actual,predicted):\n",
    "    EPS = 1e-15\n",
    "    predicted = np.clip(predicted,EPS,1-EPS)\n",
    "    loss = -np.sum(actual*np.log(predicted))\n",
    "    return loss"
   ]
  },
  {
   "cell_type": "code",
   "execution_count": 40,
   "id": "f67291f2",
   "metadata": {},
   "outputs": [],
   "source": [
    "y = np.array([1,0,0])"
   ]
  },
  {
   "cell_type": "code",
   "execution_count": 41,
   "id": "3a2c3879",
   "metadata": {},
   "outputs": [],
   "source": [
    "y_pred_good = np.array([0.7,0.2,0.1])\n",
    "y_pred_bad = np.array([0.1,0.3,0.6])"
   ]
  },
  {
   "cell_type": "code",
   "execution_count": 42,
   "id": "c421a687",
   "metadata": {},
   "outputs": [
    {
     "name": "stdout",
     "output_type": "stream",
     "text": [
      "0.35667494393873245\n",
      "2.3025850929940455\n"
     ]
    }
   ],
   "source": [
    "l1 = crossentropy(y,y_pred_good)\n",
    "l2 = crossentropy(y,y_pred_bad)\n",
    "print(l1)\n",
    "print(l2)"
   ]
  },
  {
   "cell_type": "code",
   "execution_count": 43,
   "id": "728c5b06",
   "metadata": {},
   "outputs": [],
   "source": [
    "loss = nn.CrossEntropyLoss()"
   ]
  },
  {
   "cell_type": "code",
   "execution_count": 44,
   "id": "44ca3f4f",
   "metadata": {},
   "outputs": [],
   "source": [
    "y = torch.tensor([0])\n"
   ]
  },
  {
   "cell_type": "code",
   "execution_count": 45,
   "id": "a3cd56b4",
   "metadata": {},
   "outputs": [],
   "source": [
    "y_pred_good = torch.tensor([[2.0,1.0,0.1]])\n",
    "y_pred_bad = torch.tensor([[0.5,2.0,0.3]])"
   ]
  },
  {
   "cell_type": "code",
   "execution_count": 46,
   "id": "6912443f",
   "metadata": {},
   "outputs": [],
   "source": [
    "l1 = loss(y_pred_good,y)"
   ]
  },
  {
   "cell_type": "code",
   "execution_count": 47,
   "id": "f9706bf6",
   "metadata": {},
   "outputs": [],
   "source": [
    "l2 = loss(y_pred_bad,y)"
   ]
  },
  {
   "cell_type": "code",
   "execution_count": 48,
   "id": "66660923",
   "metadata": {},
   "outputs": [
    {
     "name": "stdout",
     "output_type": "stream",
     "text": [
      "tensor(0.4170)\n",
      "tensor(1.8406)\n"
     ]
    }
   ],
   "source": [
    "print(l1)\n",
    "print(l2)"
   ]
  },
  {
   "cell_type": "code",
   "execution_count": 49,
   "id": "164449f0",
   "metadata": {},
   "outputs": [],
   "source": [
    "# get predictions"
   ]
  },
  {
   "cell_type": "code",
   "execution_count": 50,
   "id": "34f829d6",
   "metadata": {},
   "outputs": [],
   "source": [
    "x,predictions1 = torch.max(y_pred_good,1)"
   ]
  },
  {
   "cell_type": "code",
   "execution_count": 51,
   "id": "9b7214d9",
   "metadata": {},
   "outputs": [
    {
     "data": {
      "text/plain": [
       "tensor([2.])"
      ]
     },
     "execution_count": 51,
     "metadata": {},
     "output_type": "execute_result"
    }
   ],
   "source": [
    "x"
   ]
  },
  {
   "cell_type": "code",
   "execution_count": 52,
   "id": "7ece358c",
   "metadata": {},
   "outputs": [
    {
     "data": {
      "text/plain": [
       "tensor([0])"
      ]
     },
     "execution_count": 52,
     "metadata": {},
     "output_type": "execute_result"
    }
   ],
   "source": [
    "predictions1"
   ]
  },
  {
   "cell_type": "code",
   "execution_count": 53,
   "id": "ec66891e",
   "metadata": {},
   "outputs": [],
   "source": [
    "# Batch size = 3"
   ]
  },
  {
   "cell_type": "code",
   "execution_count": 54,
   "id": "be57cfdd",
   "metadata": {},
   "outputs": [],
   "source": [
    "y = torch.tensor([2,0,1])"
   ]
  },
  {
   "cell_type": "code",
   "execution_count": 55,
   "id": "8a43d34f",
   "metadata": {},
   "outputs": [],
   "source": [
    "y_pred_good = torch.tensor(\n",
    "[[0.1,0.2,3.9],\n",
    "[1.2,0.1,0.3],\n",
    "[0.3,2.2,0.2]])"
   ]
  },
  {
   "cell_type": "code",
   "execution_count": 56,
   "id": "34d6cdb8",
   "metadata": {},
   "outputs": [],
   "source": [
    "y_pred_bad = torch.tensor(\n",
    "[[0.9,0.2,0.1],\n",
    "[0.1,0.3,1.5],\n",
    "[1.2,0.2,0.5]])"
   ]
  },
  {
   "cell_type": "code",
   "execution_count": 57,
   "id": "5f929f48",
   "metadata": {},
   "outputs": [],
   "source": [
    "l1 = loss(y_pred_good,y)"
   ]
  },
  {
   "cell_type": "code",
   "execution_count": 58,
   "id": "8bddfbf5",
   "metadata": {},
   "outputs": [],
   "source": [
    "l2 = loss(y_pred_bad,y)"
   ]
  },
  {
   "cell_type": "code",
   "execution_count": 59,
   "id": "6ca25f14",
   "metadata": {},
   "outputs": [
    {
     "name": "stdout",
     "output_type": "stream",
     "text": [
      "tensor(0.2834)\n",
      "tensor(1.6418)\n"
     ]
    }
   ],
   "source": [
    "print(l1)\n",
    "print(l2)"
   ]
  },
  {
   "cell_type": "code",
   "execution_count": 60,
   "id": "5fc48f68",
   "metadata": {},
   "outputs": [
    {
     "name": "stdout",
     "output_type": "stream",
     "text": [
      "Actual class:tensor([2, 0, 1]),y_pred1:tensor([2, 0, 1]),y_pred2:tensor([0, 2, 0])\n"
     ]
    }
   ],
   "source": [
    "_,predictions1 = torch.max(y_pred_good,1)\n",
    "_,predictions2 = torch.max(y_pred_bad,1)\n",
    "print(f'Actual class:{y},y_pred1:{predictions1},y_pred2:{predictions2}')"
   ]
  },
  {
   "cell_type": "code",
   "execution_count": null,
   "id": "34cdfe31",
   "metadata": {},
   "outputs": [],
   "source": []
  }
 ],
 "metadata": {
  "kernelspec": {
   "display_name": "Python 3 (ipykernel)",
   "language": "python",
   "name": "python3"
  },
  "language_info": {
   "codemirror_mode": {
    "name": "ipython",
    "version": 3
   },
   "file_extension": ".py",
   "mimetype": "text/x-python",
   "name": "python",
   "nbconvert_exporter": "python",
   "pygments_lexer": "ipython3",
   "version": "3.8.16"
  }
 },
 "nbformat": 4,
 "nbformat_minor": 5
}
