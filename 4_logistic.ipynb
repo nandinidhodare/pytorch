{
 "cells": [
  {
   "cell_type": "code",
   "execution_count": 1,
   "id": "ce141c9e",
   "metadata": {},
   "outputs": [],
   "source": [
    "import torch\n",
    "import torch.nn as nn\n",
    "import numpy as np\n",
    "from sklearn import datasets\n",
    "from sklearn.preprocessing import StandardScaler\n",
    "from sklearn.model_selection import train_test_split"
   ]
  },
  {
   "cell_type": "code",
   "execution_count": 2,
   "id": "facf77b2",
   "metadata": {},
   "outputs": [],
   "source": [
    "bc = datasets.load_breast_cancer()"
   ]
  },
  {
   "cell_type": "code",
   "execution_count": 3,
   "id": "30601da3",
   "metadata": {},
   "outputs": [],
   "source": [
    "X,y  = bc.data,bc.target"
   ]
  },
  {
   "cell_type": "code",
   "execution_count": 4,
   "id": "b57479e7",
   "metadata": {},
   "outputs": [],
   "source": [
    "n_sample,n_features = X.shape"
   ]
  },
  {
   "cell_type": "code",
   "execution_count": 5,
   "id": "a5c4d999",
   "metadata": {},
   "outputs": [
    {
     "name": "stdout",
     "output_type": "stream",
     "text": [
      "569 30\n"
     ]
    }
   ],
   "source": [
    "print(n_sample,n_features)"
   ]
  },
  {
   "cell_type": "code",
   "execution_count": 6,
   "id": "1e1e866d",
   "metadata": {},
   "outputs": [],
   "source": [
    "X_train,X_test,y_train,y_test = train_test_split(X,y,test_size=0.2,random_state=1234)"
   ]
  },
  {
   "cell_type": "code",
   "execution_count": 7,
   "id": "a3a6c38a",
   "metadata": {},
   "outputs": [],
   "source": [
    "sc = StandardScaler()\n",
    "X_train = sc.fit_transform(X_train)\n",
    "X_test = sc.transform(X_test)"
   ]
  },
  {
   "cell_type": "code",
   "execution_count": 8,
   "id": "f356e006",
   "metadata": {},
   "outputs": [],
   "source": [
    "X_train = torch.from_numpy(X_train.astype(np.float32))\n",
    "X_test = torch.from_numpy(X_test.astype(np.float32))\n",
    "y_train = torch.from_numpy(y_train.astype(np.float32))\n",
    "y_test = torch.from_numpy(y_test.astype(np.float32))"
   ]
  },
  {
   "cell_type": "code",
   "execution_count": 9,
   "id": "cf45c5e9",
   "metadata": {},
   "outputs": [],
   "source": [
    "y_train = y_train.view(y_train.shape[0],1)\n",
    "y_test = y_test.view(y_test.shape[0],1)"
   ]
  },
  {
   "cell_type": "code",
   "execution_count": 10,
   "id": "5cb17563",
   "metadata": {},
   "outputs": [
    {
     "data": {
      "text/plain": [
       "torch.Size([455, 1])"
      ]
     },
     "execution_count": 10,
     "metadata": {},
     "output_type": "execute_result"
    }
   ],
   "source": [
    "y_train.shape"
   ]
  },
  {
   "cell_type": "code",
   "execution_count": 11,
   "id": "01f6e84f",
   "metadata": {},
   "outputs": [],
   "source": [
    "# model (f = wx+b,then sigmoid at end)"
   ]
  },
  {
   "cell_type": "code",
   "execution_count": 12,
   "id": "78c9f7e4",
   "metadata": {},
   "outputs": [],
   "source": [
    "class LogisticRegression(nn.Module):\n",
    "    def __init__(self,n_input_features):\n",
    "        super(LogisticRegression,self).__init__()\n",
    "        self.linear = nn.Linear(n_input_features,1)\n",
    "    def forward(self,x):\n",
    "        y_predicted = torch.sigmoid(self.linear(x))\n",
    "        return y_predicted"
   ]
  },
  {
   "cell_type": "code",
   "execution_count": 13,
   "id": "bd9c2964",
   "metadata": {},
   "outputs": [],
   "source": [
    "model = LogisticRegression(n_features)"
   ]
  },
  {
   "cell_type": "code",
   "execution_count": 14,
   "id": "9b01e671",
   "metadata": {},
   "outputs": [],
   "source": [
    "#loss\n",
    "learning_rate = 0.01\n",
    "criterion = nn.BCELoss()\n",
    "optimizer = torch.optim.SGD(model.parameters(),lr=learning_rate)"
   ]
  },
  {
   "cell_type": "code",
   "execution_count": 15,
   "id": "619db2f5",
   "metadata": {},
   "outputs": [
    {
     "name": "stdout",
     "output_type": "stream",
     "text": [
      "epoch:1,loss=0.7158\n",
      "epoch:2,loss=0.6958\n",
      "epoch:3,loss=0.6770\n",
      "epoch:4,loss=0.6592\n",
      "epoch:5,loss=0.6424\n",
      "epoch:6,loss=0.6265\n",
      "epoch:7,loss=0.6114\n",
      "epoch:8,loss=0.5972\n",
      "epoch:9,loss=0.5837\n",
      "epoch:10,loss=0.5709\n",
      "epoch:11,loss=0.5587\n",
      "epoch:12,loss=0.5472\n",
      "epoch:13,loss=0.5362\n",
      "epoch:14,loss=0.5257\n",
      "epoch:15,loss=0.5158\n",
      "epoch:16,loss=0.5063\n",
      "epoch:17,loss=0.4973\n",
      "epoch:18,loss=0.4886\n",
      "epoch:19,loss=0.4803\n",
      "epoch:20,loss=0.4724\n",
      "epoch:21,loss=0.4648\n",
      "epoch:22,loss=0.4576\n",
      "epoch:23,loss=0.4506\n",
      "epoch:24,loss=0.4439\n",
      "epoch:25,loss=0.4375\n",
      "epoch:26,loss=0.4313\n",
      "epoch:27,loss=0.4253\n",
      "epoch:28,loss=0.4195\n",
      "epoch:29,loss=0.4140\n",
      "epoch:30,loss=0.4087\n",
      "epoch:31,loss=0.4035\n",
      "epoch:32,loss=0.3985\n",
      "epoch:33,loss=0.3937\n",
      "epoch:34,loss=0.3890\n",
      "epoch:35,loss=0.3845\n",
      "epoch:36,loss=0.3802\n",
      "epoch:37,loss=0.3759\n",
      "epoch:38,loss=0.3718\n",
      "epoch:39,loss=0.3678\n",
      "epoch:40,loss=0.3640\n",
      "epoch:41,loss=0.3602\n",
      "epoch:42,loss=0.3566\n",
      "epoch:43,loss=0.3530\n",
      "epoch:44,loss=0.3496\n",
      "epoch:45,loss=0.3462\n",
      "epoch:46,loss=0.3430\n",
      "epoch:47,loss=0.3398\n",
      "epoch:48,loss=0.3367\n",
      "epoch:49,loss=0.3337\n",
      "epoch:50,loss=0.3307\n",
      "epoch:51,loss=0.3279\n",
      "epoch:52,loss=0.3251\n",
      "epoch:53,loss=0.3223\n",
      "epoch:54,loss=0.3197\n",
      "epoch:55,loss=0.3171\n",
      "epoch:56,loss=0.3145\n",
      "epoch:57,loss=0.3120\n",
      "epoch:58,loss=0.3096\n",
      "epoch:59,loss=0.3072\n",
      "epoch:60,loss=0.3049\n",
      "epoch:61,loss=0.3026\n",
      "epoch:62,loss=0.3004\n",
      "epoch:63,loss=0.2982\n",
      "epoch:64,loss=0.2961\n",
      "epoch:65,loss=0.2940\n",
      "epoch:66,loss=0.2920\n",
      "epoch:67,loss=0.2900\n",
      "epoch:68,loss=0.2880\n",
      "epoch:69,loss=0.2861\n",
      "epoch:70,loss=0.2842\n",
      "epoch:71,loss=0.2823\n",
      "epoch:72,loss=0.2805\n",
      "epoch:73,loss=0.2787\n",
      "epoch:74,loss=0.2770\n",
      "epoch:75,loss=0.2753\n",
      "epoch:76,loss=0.2736\n",
      "epoch:77,loss=0.2719\n",
      "epoch:78,loss=0.2703\n",
      "epoch:79,loss=0.2687\n",
      "epoch:80,loss=0.2671\n",
      "epoch:81,loss=0.2656\n",
      "epoch:82,loss=0.2641\n",
      "epoch:83,loss=0.2626\n",
      "epoch:84,loss=0.2611\n",
      "epoch:85,loss=0.2597\n",
      "epoch:86,loss=0.2582\n",
      "epoch:87,loss=0.2568\n",
      "epoch:88,loss=0.2555\n",
      "epoch:89,loss=0.2541\n",
      "epoch:90,loss=0.2528\n",
      "epoch:91,loss=0.2515\n",
      "epoch:92,loss=0.2502\n",
      "epoch:93,loss=0.2489\n",
      "epoch:94,loss=0.2477\n",
      "epoch:95,loss=0.2464\n",
      "epoch:96,loss=0.2452\n",
      "epoch:97,loss=0.2440\n",
      "epoch:98,loss=0.2429\n",
      "epoch:99,loss=0.2417\n",
      "epoch:100,loss=0.2405\n"
     ]
    }
   ],
   "source": [
    "#training loop\n",
    "num_epoch = 100\n",
    "for epoch in range(num_epoch):\n",
    "    y_predicted = model(X_train)\n",
    "    loss = criterion(y_predicted,y_train)\n",
    "    #back pass\n",
    "    loss.backward()\n",
    "    # update\n",
    "    optimizer.step()\n",
    "    optimizer.zero_grad()\n",
    "    if (epoch+1) % 1 == 0:\n",
    "        print(f'epoch:{epoch+1},loss={loss.item():.4f}')"
   ]
  },
  {
   "cell_type": "code",
   "execution_count": 16,
   "id": "f0510ecc",
   "metadata": {},
   "outputs": [
    {
     "name": "stdout",
     "output_type": "stream",
     "text": [
      "accuracy: = 0.8772\n"
     ]
    }
   ],
   "source": [
    "#testing\n",
    "\n",
    "with torch.no_grad():\n",
    "    y_predicted = model(X_test)\n",
    "    y_predicted_cls = y_predicted.round()\n",
    "    acc = y_predicted_cls.eq(y_test).sum()/float(y_test.shape[0])\n",
    "    \n",
    "print(f'accuracy: = {acc:.4f}')"
   ]
  },
  {
   "cell_type": "code",
   "execution_count": null,
   "id": "730aedac",
   "metadata": {},
   "outputs": [],
   "source": []
  }
 ],
 "metadata": {
  "kernelspec": {
   "display_name": "Python 3 (ipykernel)",
   "language": "python",
   "name": "python3"
  },
  "language_info": {
   "codemirror_mode": {
    "name": "ipython",
    "version": 3
   },
   "file_extension": ".py",
   "mimetype": "text/x-python",
   "name": "python",
   "nbconvert_exporter": "python",
   "pygments_lexer": "ipython3",
   "version": "3.8.16"
  }
 },
 "nbformat": 4,
 "nbformat_minor": 5
}
