{
 "cells": [
  {
   "cell_type": "code",
   "execution_count": 1,
   "id": "8c62d535",
   "metadata": {},
   "outputs": [],
   "source": [
    "import torch\n",
    "import torch.nn as nn\n",
    "import torch.nn.functional as F\n",
    "import torchvision\n",
    "import torchvision.transforms as transforms\n",
    "import matplotlib.pyplot as plt\n",
    "import numpy as np"
   ]
  },
  {
   "cell_type": "code",
   "execution_count": 2,
   "id": "f72a1119",
   "metadata": {},
   "outputs": [],
   "source": [
    "device = torch.device('cuda' if torch.cuda.is_available() else 'cpu')"
   ]
  },
  {
   "cell_type": "code",
   "execution_count": 3,
   "id": "98181118",
   "metadata": {},
   "outputs": [
    {
     "data": {
      "text/plain": [
       "device(type='cpu')"
      ]
     },
     "execution_count": 3,
     "metadata": {},
     "output_type": "execute_result"
    }
   ],
   "source": [
    "device"
   ]
  },
  {
   "cell_type": "code",
   "execution_count": 4,
   "id": "3b8db7a9",
   "metadata": {},
   "outputs": [],
   "source": [
    "#hpyerparameters\n",
    "num_epochs = 10\n",
    "batch_size = 4\n",
    "learning_rate =0.01"
   ]
  },
  {
   "cell_type": "code",
   "execution_count": 5,
   "id": "34b500a6",
   "metadata": {},
   "outputs": [],
   "source": [
    "transform = transforms.Compose(\n",
    "[transforms.ToTensor(),\n",
    "transforms.Normalize((0.5,0.5,0.5),(0.5,0.5,0.5))])"
   ]
  },
  {
   "cell_type": "code",
   "execution_count": 6,
   "id": "1129c19d",
   "metadata": {},
   "outputs": [
    {
     "name": "stdout",
     "output_type": "stream",
     "text": [
      "Downloading https://www.cs.toronto.edu/~kriz/cifar-10-python.tar.gz to data\\cifar-10-python.tar.gz\n"
     ]
    },
    {
     "data": {
      "application/vnd.jupyter.widget-view+json": {
       "model_id": "25222891b9cb4192b052289bdb25ab13",
       "version_major": 2,
       "version_minor": 0
      },
      "text/plain": [
       "  0%|          | 0/170498071 [00:00<?, ?it/s]"
      ]
     },
     "metadata": {},
     "output_type": "display_data"
    },
    {
     "name": "stdout",
     "output_type": "stream",
     "text": [
      "Extracting data\\cifar-10-python.tar.gz to data\n"
     ]
    }
   ],
   "source": [
    "train_dataset = torchvision.datasets.CIFAR10(root='data',\n",
    "                                            train=True,\n",
    "                                            download=True,\n",
    "                                            transform=transform)"
   ]
  },
  {
   "cell_type": "code",
   "execution_count": 7,
   "id": "1a1e81d6",
   "metadata": {},
   "outputs": [
    {
     "name": "stdout",
     "output_type": "stream",
     "text": [
      "Files already downloaded and verified\n"
     ]
    }
   ],
   "source": [
    "test_dataset = torchvision.datasets.CIFAR10(root='data',\n",
    "                                            train=False,\n",
    "                                            download=True,\n",
    "                                            transform=transform)"
   ]
  },
  {
   "cell_type": "code",
   "execution_count": 8,
   "id": "49f2832b",
   "metadata": {},
   "outputs": [
    {
     "data": {
      "text/plain": [
       "Dataset CIFAR10\n",
       "    Number of datapoints: 50000\n",
       "    Root location: data\n",
       "    Split: Train\n",
       "    StandardTransform\n",
       "Transform: Compose(\n",
       "               ToTensor()\n",
       "               Normalize(mean=(0.5, 0.5, 0.5), std=(0.5, 0.5, 0.5))\n",
       "           )"
      ]
     },
     "execution_count": 8,
     "metadata": {},
     "output_type": "execute_result"
    }
   ],
   "source": [
    "train_dataset"
   ]
  },
  {
   "cell_type": "code",
   "execution_count": 9,
   "id": "a8de00f9",
   "metadata": {},
   "outputs": [],
   "source": [
    "train_loader = torch.utils.data.DataLoader(dataset=train_dataset,\n",
    "                                          batch_size=batch_size,\n",
    "                                          shuffle=True)"
   ]
  },
  {
   "cell_type": "code",
   "execution_count": 10,
   "id": "4fab9faa",
   "metadata": {},
   "outputs": [
    {
     "data": {
      "text/plain": [
       "torch.Size([4, 3, 32, 32])"
      ]
     },
     "execution_count": 10,
     "metadata": {},
     "output_type": "execute_result"
    }
   ],
   "source": [
    "examples = iter(train_loader)\n",
    "samples ,labels = examples.next()\n",
    "samples.shape"
   ]
  },
  {
   "cell_type": "code",
   "execution_count": 11,
   "id": "c4266859",
   "metadata": {},
   "outputs": [],
   "source": [
    "test_loader = torch.utils.data.DataLoader(dataset=test_dataset,\n",
    "                                         batch_size = batch_size,\n",
    "                                         shuffle = False)"
   ]
  },
  {
   "cell_type": "code",
   "execution_count": 12,
   "id": "0a94ffe7",
   "metadata": {},
   "outputs": [],
   "source": [
    "classes = ('plane','car','bird','cat','deer','dog','frog','horse','ship','truck')"
   ]
  },
  {
   "cell_type": "code",
   "execution_count": 13,
   "id": "58f11512",
   "metadata": {},
   "outputs": [
    {
     "data": {
      "text/plain": [
       "('plane',\n",
       " 'car',\n",
       " 'bird',\n",
       " 'cat',\n",
       " 'deer',\n",
       " 'dog',\n",
       " 'frog',\n",
       " 'horse',\n",
       " 'ship',\n",
       " 'truck')"
      ]
     },
     "execution_count": 13,
     "metadata": {},
     "output_type": "execute_result"
    }
   ],
   "source": [
    "classes"
   ]
  },
  {
   "cell_type": "code",
   "execution_count": 14,
   "id": "60f7aed2",
   "metadata": {},
   "outputs": [],
   "source": [
    "class ConvNet(nn.Module):\n",
    "    def __init__(self):\n",
    "        super(ConvNet,self).__init__()\n",
    "        self.conv1 = nn.Conv2d(3,6,5)\n",
    "        self.pool = nn.MaxPool2d(2,2)\n",
    "        self.conv2 = nn.Conv2d(6,16,5)\n",
    "        self.fc1 = nn.Linear(16*5*5,120)\n",
    "        self.fc2 = nn.Linear(120,84)\n",
    "        self.fc3 = nn.Linear(84,10)\n",
    "    def forward(self,x):\n",
    "        x = self.pool(F.relu(self.conv1(x)))\n",
    "        x = self.pool(F.relu(self.conv2(x)))\n",
    "        x = x.view(-1,16*5*5)\n",
    "        x = F.relu(self.fc1(x))\n",
    "        x = F.relu(self.fc2(x))\n",
    "        x = self.fc3(x)\n",
    "        return x"
   ]
  },
  {
   "cell_type": "code",
   "execution_count": 15,
   "id": "c2918faf",
   "metadata": {},
   "outputs": [],
   "source": [
    "model = ConvNet().to(device)"
   ]
  },
  {
   "cell_type": "code",
   "execution_count": 16,
   "id": "2d460210",
   "metadata": {},
   "outputs": [
    {
     "data": {
      "text/plain": [
       "ConvNet(\n",
       "  (conv1): Conv2d(3, 6, kernel_size=(5, 5), stride=(1, 1))\n",
       "  (pool): MaxPool2d(kernel_size=2, stride=2, padding=0, dilation=1, ceil_mode=False)\n",
       "  (conv2): Conv2d(6, 16, kernel_size=(5, 5), stride=(1, 1))\n",
       "  (fc1): Linear(in_features=400, out_features=120, bias=True)\n",
       "  (fc2): Linear(in_features=120, out_features=84, bias=True)\n",
       "  (fc3): Linear(in_features=84, out_features=10, bias=True)\n",
       ")"
      ]
     },
     "execution_count": 16,
     "metadata": {},
     "output_type": "execute_result"
    }
   ],
   "source": [
    "model"
   ]
  },
  {
   "cell_type": "code",
   "execution_count": 17,
   "id": "29bb6b18",
   "metadata": {},
   "outputs": [],
   "source": [
    "criterion = nn.CrossEntropyLoss()\n",
    "optimizer = torch.optim.Adam(model.parameters(),lr=learning_rate)"
   ]
  },
  {
   "cell_type": "code",
   "execution_count": null,
   "id": "ea6bbca5",
   "metadata": {},
   "outputs": [
    {
     "name": "stderr",
     "output_type": "stream",
     "text": [
      "C:\\Users\\ASUS\\.conda\\envs\\tfnew\\lib\\site-packages\\torch\\nn\\functional.py:718: UserWarning: Named tensors and all their associated APIs are an experimental feature and subject to change. Please do not use them for anything important until they are released as stable. (Triggered internally at  ..\\c10/core/TensorImpl.h:1156.)\n",
      "  return torch.max_pool2d(input, kernel_size, stride, padding, dilation, ceil_mode)\n"
     ]
    },
    {
     "name": "stdout",
     "output_type": "stream",
     "text": [
      "Epoch [1/10],step [2000/12500],loss: 2.2612\n",
      "Epoch [1/10],step [4000/12500],loss: 2.2957\n",
      "Epoch [1/10],step [6000/12500],loss: 2.2832\n",
      "Epoch [1/10],step [8000/12500],loss: 2.2868\n",
      "Epoch [1/10],step [10000/12500],loss: 2.2606\n",
      "Epoch [1/10],step [12000/12500],loss: 2.2719\n",
      "Epoch [2/10],step [2000/12500],loss: 2.2774\n",
      "Epoch [2/10],step [4000/12500],loss: 2.3415\n",
      "Epoch [2/10],step [6000/12500],loss: 2.2929\n",
      "Epoch [2/10],step [8000/12500],loss: 2.3342\n",
      "Epoch [2/10],step [10000/12500],loss: 2.2711\n",
      "Epoch [2/10],step [12000/12500],loss: 2.2473\n",
      "Epoch [3/10],step [2000/12500],loss: 2.2490\n",
      "Epoch [3/10],step [4000/12500],loss: 2.2795\n",
      "Epoch [3/10],step [6000/12500],loss: 2.2993\n",
      "Epoch [3/10],step [8000/12500],loss: 2.3329\n",
      "Epoch [3/10],step [10000/12500],loss: 2.3460\n",
      "Epoch [3/10],step [12000/12500],loss: 2.2741\n",
      "Epoch [4/10],step [2000/12500],loss: 2.3024\n",
      "Epoch [4/10],step [4000/12500],loss: 2.2843\n",
      "Epoch [4/10],step [6000/12500],loss: 2.3432\n",
      "Epoch [4/10],step [8000/12500],loss: 2.2364\n",
      "Epoch [4/10],step [10000/12500],loss: 2.2897\n",
      "Epoch [4/10],step [12000/12500],loss: 2.3206\n",
      "Epoch [5/10],step [2000/12500],loss: 2.3337\n",
      "Epoch [5/10],step [4000/12500],loss: 2.2832\n",
      "Epoch [5/10],step [6000/12500],loss: 2.2712\n",
      "Epoch [5/10],step [8000/12500],loss: 2.2960\n",
      "Epoch [5/10],step [10000/12500],loss: 2.2521\n",
      "Epoch [5/10],step [12000/12500],loss: 2.3192\n",
      "Epoch [6/10],step [2000/12500],loss: 2.2789\n",
      "Epoch [6/10],step [4000/12500],loss: 2.2551\n",
      "Epoch [6/10],step [6000/12500],loss: 2.2912\n",
      "Epoch [6/10],step [8000/12500],loss: 2.2709\n",
      "Epoch [6/10],step [10000/12500],loss: 2.2537\n",
      "Epoch [6/10],step [12000/12500],loss: 2.3631\n",
      "Epoch [7/10],step [2000/12500],loss: 2.2856\n",
      "Epoch [7/10],step [4000/12500],loss: 2.3111\n",
      "Epoch [7/10],step [6000/12500],loss: 2.3098\n",
      "Epoch [7/10],step [8000/12500],loss: 2.2853\n",
      "Epoch [7/10],step [10000/12500],loss: 2.3247\n",
      "Epoch [7/10],step [12000/12500],loss: 2.2660\n",
      "Epoch [8/10],step [2000/12500],loss: 2.2296\n",
      "Epoch [8/10],step [4000/12500],loss: 2.2386\n",
      "Epoch [8/10],step [6000/12500],loss: 2.4121\n",
      "Epoch [8/10],step [8000/12500],loss: 2.3077\n",
      "Epoch [8/10],step [10000/12500],loss: 2.2927\n",
      "Epoch [8/10],step [12000/12500],loss: 2.3380\n",
      "Epoch [9/10],step [2000/12500],loss: 2.2754\n",
      "Epoch [9/10],step [4000/12500],loss: 2.3180\n",
      "Epoch [9/10],step [6000/12500],loss: 2.2979\n",
      "Epoch [9/10],step [8000/12500],loss: 2.3146\n",
      "Epoch [9/10],step [10000/12500],loss: 2.2288\n",
      "Epoch [9/10],step [12000/12500],loss: 2.3018\n",
      "Epoch [10/10],step [2000/12500],loss: 2.3026\n",
      "Epoch [10/10],step [4000/12500],loss: 2.3698\n",
      "Epoch [10/10],step [6000/12500],loss: 2.2317\n",
      "Epoch [10/10],step [8000/12500],loss: 2.3326\n",
      "Epoch [10/10],step [10000/12500],loss: 2.3146\n",
      "Epoch [10/10],step [12000/12500],loss: 2.2710\n"
     ]
    }
   ],
   "source": [
    "n_total_steps = len(train_loader)\n",
    "for epoch in range(num_epochs):\n",
    "    for i, (images,labels) in enumerate(train_loader):\n",
    "        images = images.to(device)\n",
    "        labels = labels.to(device)\n",
    "        #forward\n",
    "        outputs = model(images)\n",
    "        loss = criterion(outputs,labels)\n",
    "        #backword\n",
    "        optimizer.zero_grad()\n",
    "        loss.backward()\n",
    "        optimizer.step()\n",
    "        if (i+1) % 2000 == 0:\n",
    "            print(f'Epoch [{epoch+1}/{num_epochs}],step [{i+1}/{n_total_steps}],loss: {loss.item():.4f}')\n",
    "print(\"Finished Traing\")"
   ]
  },
  {
   "cell_type": "code",
   "execution_count": null,
   "id": "8873505e",
   "metadata": {},
   "outputs": [],
   "source": []
  }
 ],
 "metadata": {
  "kernelspec": {
   "display_name": "Python 3 (ipykernel)",
   "language": "python",
   "name": "python3"
  },
  "language_info": {
   "codemirror_mode": {
    "name": "ipython",
    "version": 3
   },
   "file_extension": ".py",
   "mimetype": "text/x-python",
   "name": "python",
   "nbconvert_exporter": "python",
   "pygments_lexer": "ipython3",
   "version": "3.8.16"
  }
 },
 "nbformat": 4,
 "nbformat_minor": 5
}
