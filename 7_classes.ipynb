{
 "cells": [
  {
   "cell_type": "code",
   "execution_count": 1,
   "id": "f4c40425",
   "metadata": {},
   "outputs": [],
   "source": [
    "# Almost everything is an Object, with its properties and methods.\n",
    "# A class is like an object constructor, or a blueprint for creating object."
   ]
  },
  {
   "cell_type": "code",
   "execution_count": 2,
   "id": "35b7d21e",
   "metadata": {},
   "outputs": [],
   "source": [
    "class MyClass:\n",
    "    x = 5 #(property)"
   ]
  },
  {
   "cell_type": "code",
   "execution_count": 3,
   "id": "c12a0ea1",
   "metadata": {},
   "outputs": [],
   "source": [
    "# now create an object named p1 and print the value og x"
   ]
  },
  {
   "cell_type": "code",
   "execution_count": 4,
   "id": "912d0581",
   "metadata": {},
   "outputs": [],
   "source": [
    "p1 = MyClass()"
   ]
  },
  {
   "cell_type": "code",
   "execution_count": 5,
   "id": "472bd778",
   "metadata": {},
   "outputs": [
    {
     "data": {
      "text/plain": [
       "5"
      ]
     },
     "execution_count": 5,
     "metadata": {},
     "output_type": "execute_result"
    }
   ],
   "source": [
    "p1.x"
   ]
  },
  {
   "cell_type": "code",
   "execution_count": 6,
   "id": "5ccbed25",
   "metadata": {},
   "outputs": [],
   "source": [
    "#all classes have a function called __init__() which is always execute when class being initied.\n",
    "# use __init__() function to asign values to object properties or the operators that necessary to do when the oject is being created."
   ]
  },
  {
   "cell_type": "code",
   "execution_count": 7,
   "id": "82587054",
   "metadata": {},
   "outputs": [],
   "source": [
    "class Person:\n",
    "    def __init__(self,name,age):\n",
    "        self.name = name\n",
    "        self.age = age"
   ]
  },
  {
   "cell_type": "code",
   "execution_count": 9,
   "id": "538af92a",
   "metadata": {},
   "outputs": [],
   "source": [
    "p1 = Person(\"rakesh\",40)"
   ]
  },
  {
   "cell_type": "code",
   "execution_count": 10,
   "id": "117ff2bf",
   "metadata": {},
   "outputs": [
    {
     "data": {
      "text/plain": [
       "'rakesh'"
      ]
     },
     "execution_count": 10,
     "metadata": {},
     "output_type": "execute_result"
    }
   ],
   "source": [
    "p1.name"
   ]
  },
  {
   "cell_type": "code",
   "execution_count": 11,
   "id": "8bf2d5e6",
   "metadata": {},
   "outputs": [
    {
     "data": {
      "text/plain": [
       "40"
      ]
     },
     "execution_count": 11,
     "metadata": {},
     "output_type": "execute_result"
    }
   ],
   "source": [
    "p1.age"
   ]
  },
  {
   "cell_type": "code",
   "execution_count": 12,
   "id": "edf21b9e",
   "metadata": {},
   "outputs": [],
   "source": [
    "#create parent class\n",
    "class Person:\n",
    "    def __init__(self,fname,lname):\n",
    "        self.firstname = fname\n",
    "        self.lastname = lname\n",
    "    def printname(self):\n",
    "        print(self.firstname,self.lastname)"
   ]
  },
  {
   "cell_type": "code",
   "execution_count": 13,
   "id": "8dd41905",
   "metadata": {},
   "outputs": [],
   "source": [
    "# create an obj^\n",
    "x =  Person(\"rakesh\",\"jadhav\")"
   ]
  },
  {
   "cell_type": "code",
   "execution_count": 14,
   "id": "9843cb51",
   "metadata": {},
   "outputs": [
    {
     "name": "stdout",
     "output_type": "stream",
     "text": [
      "rakesh jadhav\n"
     ]
    }
   ],
   "source": [
    "x.printname()"
   ]
  },
  {
   "cell_type": "code",
   "execution_count": 15,
   "id": "1eb01c71",
   "metadata": {},
   "outputs": [],
   "source": [
    "#create child class\n",
    "class student(Person):\n",
    "    pass               #when you dont have add any properties and methods"
   ]
  },
  {
   "cell_type": "code",
   "execution_count": 16,
   "id": "0350f384",
   "metadata": {},
   "outputs": [],
   "source": [
    "x = student('aarav','jadhav')"
   ]
  },
  {
   "cell_type": "code",
   "execution_count": 17,
   "id": "daab231f",
   "metadata": {},
   "outputs": [
    {
     "name": "stdout",
     "output_type": "stream",
     "text": [
      "aarav jadhav\n"
     ]
    }
   ],
   "source": [
    "x.printname()"
   ]
  },
  {
   "cell_type": "code",
   "execution_count": 18,
   "id": "f039751f",
   "metadata": {},
   "outputs": [],
   "source": [
    "# add __init__() function when you add the __init__() func^ the child no longer inherite the parent"
   ]
  },
  {
   "cell_type": "code",
   "execution_count": 19,
   "id": "0eb75d0e",
   "metadata": {},
   "outputs": [],
   "source": [
    "class student(Person):\n",
    "    def __init__(self,fname,lname):\n",
    "        self.firstname = fname\n",
    "        self.lastname = lname"
   ]
  },
  {
   "cell_type": "code",
   "execution_count": 20,
   "id": "c066191b",
   "metadata": {},
   "outputs": [],
   "source": [
    "#to keep inheritance of parent"
   ]
  },
  {
   "cell_type": "code",
   "execution_count": 21,
   "id": "908ce09b",
   "metadata": {},
   "outputs": [],
   "source": [
    "class student(Person):\n",
    "    def __init__(self,fname,lname):\n",
    "        Person.__init__(self,fname,lname)"
   ]
  },
  {
   "cell_type": "code",
   "execution_count": 22,
   "id": "7ee8bce4",
   "metadata": {},
   "outputs": [],
   "source": [
    "class student(Person):\n",
    "    def __init__(self,fname,lname,year):\n",
    "        super().__init__(fname,lname)\n",
    "        self.graduationyear = year"
   ]
  },
  {
   "cell_type": "code",
   "execution_count": 23,
   "id": "48069951",
   "metadata": {},
   "outputs": [],
   "source": [
    "x = student('rakesh','jadhav','2000')"
   ]
  },
  {
   "cell_type": "code",
   "execution_count": 24,
   "id": "70425882",
   "metadata": {},
   "outputs": [
    {
     "data": {
      "text/plain": [
       "'2000'"
      ]
     },
     "execution_count": 24,
     "metadata": {},
     "output_type": "execute_result"
    }
   ],
   "source": [
    "x.graduationyear"
   ]
  },
  {
   "cell_type": "code",
   "execution_count": 25,
   "id": "ae0b3150",
   "metadata": {},
   "outputs": [
    {
     "name": "stdout",
     "output_type": "stream",
     "text": [
      "rakesh jadhav\n"
     ]
    }
   ],
   "source": [
    "x.printname()"
   ]
  },
  {
   "cell_type": "code",
   "execution_count": null,
   "id": "aa27b826",
   "metadata": {},
   "outputs": [],
   "source": []
  }
 ],
 "metadata": {
  "kernelspec": {
   "display_name": "Python 3 (ipykernel)",
   "language": "python",
   "name": "python3"
  },
  "language_info": {
   "codemirror_mode": {
    "name": "ipython",
    "version": 3
   },
   "file_extension": ".py",
   "mimetype": "text/x-python",
   "name": "python",
   "nbconvert_exporter": "python",
   "pygments_lexer": "ipython3",
   "version": "3.8.16"
  }
 },
 "nbformat": 4,
 "nbformat_minor": 5
}
